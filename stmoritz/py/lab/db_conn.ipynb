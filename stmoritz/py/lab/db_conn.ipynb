{
 "cells": [
  {
   "cell_type": "code",
   "execution_count": 1,
   "metadata": {},
   "outputs": [
    {
     "data": {
      "text/html": [
       "<div>\n",
       "<style scoped>\n",
       "    .dataframe tbody tr th:only-of-type {\n",
       "        vertical-align: middle;\n",
       "    }\n",
       "\n",
       "    .dataframe tbody tr th {\n",
       "        vertical-align: top;\n",
       "    }\n",
       "\n",
       "    .dataframe thead th {\n",
       "        text-align: right;\n",
       "    }\n",
       "</style>\n",
       "<table border=\"1\" class=\"dataframe\">\n",
       "  <thead>\n",
       "    <tr style=\"text-align: right;\">\n",
       "      <th></th>\n",
       "      <th>version</th>\n",
       "    </tr>\n",
       "  </thead>\n",
       "  <tbody>\n",
       "    <tr>\n",
       "      <th>0</th>\n",
       "      <td>PostgreSQL 11.2 on x86_64-pc-linux-musl, compi...</td>\n",
       "    </tr>\n",
       "  </tbody>\n",
       "</table>\n",
       "</div>"
      ],
      "text/plain": [
       "                                             version\n",
       "0  PostgreSQL 11.2 on x86_64-pc-linux-musl, compi..."
      ]
     },
     "execution_count": 1,
     "metadata": {},
     "output_type": "execute_result"
    }
   ],
   "source": [
    "import os\n",
    "\n",
    "import sqlalchemy as sa\n",
    "import pandas as pd\n",
    "\n",
    "template = '{dialect}+{driver}://{user}:{pass}@{host}:{port}/{name}'\n",
    "\n",
    "db_url_params = {\n",
    "    'dialect': 'postgresql',\n",
    "    'driver': 'psycopg2',\n",
    "    'host': os.environ['DB_HOST'],\n",
    "    'name': os.environ['DB_NAME'],\n",
    "    'user': os.environ['DB_USER'],\n",
    "    'port': os.environ['DB_PORT'],\n",
    "    'pass': os.environ['DB_PASS']}\n",
    "\n",
    "engine = sa.create_engine(template.format(**db_url_params))\n",
    "\n",
    "pd.read_sql(\"SELECT VERSION();\", engine)"
   ]
  },
  {
   "cell_type": "code",
   "execution_count": null,
   "metadata": {},
   "outputs": [],
   "source": []
  }
 ],
 "metadata": {
  "kernelspec": {
   "display_name": "Python 3",
   "language": "python",
   "name": "python3"
  },
  "language_info": {
   "codemirror_mode": {
    "name": "ipython",
    "version": 3
   },
   "file_extension": ".py",
   "mimetype": "text/x-python",
   "name": "python",
   "nbconvert_exporter": "python",
   "pygments_lexer": "ipython3",
   "version": "3.7.3"
  }
 },
 "nbformat": 4,
 "nbformat_minor": 4
}
