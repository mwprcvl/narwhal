{
 "cells": [
  {
   "cell_type": "code",
   "execution_count": 1,
   "metadata": {},
   "outputs": [
    {
     "data": {
      "text/plain": [
       "environ{'CONDA_SHLVL': '1',\n",
       "        'LC_ALL': 'C.UTF-8',\n",
       "        'CONDA_EXE': '/opt/conda/bin/conda',\n",
       "        'JUPYTER_TOKEN': 'abc123',\n",
       "        'LANG': 'C.UTF-8',\n",
       "        'HOSTNAME': '70d47911831e',\n",
       "        'CONDA_PREFIX': '/opt/conda/envs/saasfee',\n",
       "        'TINI_VERSION': 'v0.16.1',\n",
       "        'USER': 'appuser',\n",
       "        'PWD': '/app',\n",
       "        'HOME': '/app',\n",
       "        'CONDA_PYTHON_EXE': '/opt/conda/bin/python',\n",
       "        'CONDA_PROMPT_MODIFIER': '(saasfee) ',\n",
       "        'TERM': 'xterm-color',\n",
       "        'SHLVL': '1',\n",
       "        'PATH': '/opt/conda/envs/saasfee/bin:/opt/conda/envs/saasfee/bin:/opt/conda/bin:/usr/local/sbin:/usr/local/bin:/usr/sbin:/usr/bin:/sbin:/bin',\n",
       "        'CONDA_DEFAULT_ENV': 'saasfee',\n",
       "        '_': '/opt/conda/envs/saasfee/bin/jupyter',\n",
       "        'JPY_PARENT_PID': '7',\n",
       "        'CLICOLOR': '1',\n",
       "        'PAGER': 'cat',\n",
       "        'GIT_PAGER': 'cat',\n",
       "        'MPLBACKEND': 'module://ipykernel.pylab.backend_inline'}"
      ]
     },
     "execution_count": 1,
     "metadata": {},
     "output_type": "execute_result"
    }
   ],
   "source": [
    "import os\n",
    "os.environ"
   ]
  },
  {
   "cell_type": "code",
   "execution_count": 1,
   "metadata": {},
   "outputs": [],
   "source": [
    "import sqlalchemy"
   ]
  },
  {
   "cell_type": "code",
   "execution_count": null,
   "metadata": {},
   "outputs": [],
   "source": []
  }
 ],
 "metadata": {
  "kernelspec": {
   "display_name": "Python 3",
   "language": "python",
   "name": "python3"
  },
  "language_info": {
   "codemirror_mode": {
    "name": "ipython",
    "version": 3
   },
   "file_extension": ".py",
   "mimetype": "text/x-python",
   "name": "python",
   "nbconvert_exporter": "python",
   "pygments_lexer": "ipython3",
   "version": "3.7.2"
  }
 },
 "nbformat": 4,
 "nbformat_minor": 2
}
